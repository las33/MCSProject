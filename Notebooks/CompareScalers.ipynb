{
 "cells": [
  {
   "cell_type": "code",
   "execution_count": 64,
   "metadata": {},
   "outputs": [],
   "source": [
    "import pandas as pd\n",
    "import numpy as np\n",
    "import os\n",
    "from os import listdir\n",
    "from os.path import isfile, join\n",
    "from sklearn.metrics import accuracy_score,cohen_kappa_score\n",
    "from collections import defaultdict"
   ]
  },
  {
   "cell_type": "code",
   "execution_count": 65,
   "metadata": {},
   "outputs": [],
   "source": [
    "folder = './ProcessedBases_std'\n",
    "bases = [name for name in os.listdir(folder) if os.path.isdir(os.path.join(folder, name))]\n",
    "scaler_types = ['normal', 'minmax', 'std']"
   ]
  },
  {
   "cell_type": "code",
   "execution_count": 68,
   "metadata": {},
   "outputs": [
    {
     "name": "stdout",
     "output_type": "stream",
     "text": [
      "normal max\n",
      "kmeans    58.490695\n",
      "parzen    58.353654\n",
      "svdd      55.574279\n",
      "dtype: float64\n",
      "\n",
      "minmax max\n",
      "kmeans    65.185992\n",
      "parzen    61.636865\n",
      "svdd      57.050082\n",
      "dtype: float64\n",
      "\n",
      "std max\n",
      "kmeans    61.433865\n",
      "parzen    62.066115\n",
      "svdd      64.981356\n",
      "dtype: float64\n",
      "\n"
     ]
    }
   ],
   "source": [
    "metric = \"accuracy\"\n",
    "scaler_type = \"normal\"\n",
    "data = defaultdict(defaultdict)\n",
    "folder = './results_'\n",
    "\n",
    "for scaler_type in scaler_types:\n",
    "    for base in bases:\n",
    "        mypath = folder + scaler_type + \"/Experiment1/\" + base\n",
    "        df = pd.read_csv('{0}/Metrics/{1}_{2}.csv'.format(mypath,metric, base.lower())) \n",
    "\n",
    "        for index, row in df.iterrows():\n",
    "            if(\" des\" in row['Technique']):\n",
    "                continue\n",
    "            data[base][row['Technique']] = (row['mean'], row['std'])\n",
    "\n",
    "    aggs = ['max', 'ecoc', 'decision_templates']\n",
    "    columns = [\"Base\", \"kmeans\", \"parzen\", \"svdd\"]\n",
    "\n",
    "    for agg in aggs:\n",
    "        data_agg = defaultdict(list)\n",
    "        for base in bases:\n",
    "            data_agg[\"Base\"].append(base)\n",
    "            dict_agg = {k: v for k, v in data[base].items() if \"_\"+agg+\"_\" in k}\n",
    "            sortedDict = dict( sorted(dict_agg.items(), key=lambda x: x[0].lower()) )\n",
    "\n",
    "            for k,v in sortedDict.items():\n",
    "                y = k.replace(\"_\"+agg+\"_agg\",'')\n",
    "                y = y.replace(\"_\",' ')\n",
    "                data_agg[y].append(v[0]*100)\n",
    "\n",
    "        df_agg = pd.DataFrame(data_agg, columns = columns)\n",
    "        if(agg == \"max\"):\n",
    "            print(scaler_type, agg)\n",
    "            print(df_agg.mean())\n",
    "            print()"
   ]
  },
  {
   "cell_type": "code",
   "execution_count": null,
   "metadata": {},
   "outputs": [],
   "source": []
  }
 ],
 "metadata": {
  "kernelspec": {
   "display_name": "Python 3",
   "language": "python",
   "name": "python3"
  },
  "language_info": {
   "codemirror_mode": {
    "name": "ipython",
    "version": 3
   },
   "file_extension": ".py",
   "mimetype": "text/x-python",
   "name": "python",
   "nbconvert_exporter": "python",
   "pygments_lexer": "ipython3",
   "version": "3.8.3"
  }
 },
 "nbformat": 4,
 "nbformat_minor": 4
}
