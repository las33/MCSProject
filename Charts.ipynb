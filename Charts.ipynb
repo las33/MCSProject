{
 "cells": [
  {
   "cell_type": "code",
   "execution_count": 1,
   "metadata": {},
   "outputs": [],
   "source": [
    "import pandas as pd\n",
    "import numpy as np\n",
    "import matplotlib as plt"
   ]
  },
  {
   "cell_type": "code",
   "execution_count": 2,
   "metadata": {},
   "outputs": [],
   "source": [
    "datasets = [\"Auslan\", \"Autos\", \"Car\", \"Cleveland\", \"Dermatology\", \"Ecoli\", \"Flare\", \"Glass\", \"Isolet\", \"Led7digit\", \"Letter-2\", \"Lymphography\", \"Nursery\", \"Page-blocks\", \"Penbased\", \"Satimage\", \"Segment\", \"Shuttle\", \"Vehicle\", \"Vowel\", \"Yeast\", \"Zoo\"]\n",
    "excluded_datasets = [\"Ecoli\", \"Lymphography\"]\n",
    "\n",
    "datasets = [dataset for dataset in datasets if dataset not in excluded_datasets]\n",
    "\n",
    "results_folder = 'results'\n",
    "experiment_1 = 'Experiment1'\n",
    "experiment_2 = 'Experiment2'\n",
    "experiment_3 = 'Experiment3'\n",
    "metrics_folder = 'Metrics'\n",
    "\n",
    "base_classifiers = ['svdd', 'parzen', 'kmeans']\n",
    "aggregators = ['max_agg', 'decision_templates_agg', 'ecoc_agg']\n",
    "techniques = ['des', 'desthr']\n",
    "\n",
    "accuracy = 'accuracy'\n",
    "kappa = 'kappa'\n",
    "\n",
    "acc_mean = 'acc_mean'\n",
    "acc_std = 'acc_std'\n",
    "kappa_mean = 'kappa_mean'\n",
    "kappa_std = 'kappa_std'\n",
    "\n",
    "k_levels = [0, 1, 3]\n",
    "\n",
    "n_folds = 5"
   ]
  },
  {
   "cell_type": "markdown",
   "metadata": {},
   "source": [
    "## Figure 8"
   ]
  },
  {
   "cell_type": "code",
   "execution_count": 3,
   "metadata": {},
   "outputs": [],
   "source": [
    "desthr = techniques[1]\n",
    "\n",
    "techniques_formatted = {\n",
    "    'svdd_max_agg_desthr': 'MAX(SVDD)',\n",
    "    'svdd_decision_templates_agg_desthr': 'DT(SVDD)',\n",
    "    'svdd_ecoc_agg_desthr': 'ECOC(SVDD)',\n",
    "    'parzen_max_agg_desthr': 'MAX(PDD)',\n",
    "    'parzen_decision_templates_agg_desthr': 'DT(PDD)',\n",
    "    'parzen_ecoc_agg_desthr': 'ECOC(PDD)',\n",
    "    'kmeans_max_agg_desthr': 'MAX(KMEANS)',\n",
    "    'kmeans_decision_templates_agg_desthr': 'DT(KMEANS)',\n",
    "    'kmeans_ecoc_agg_desthr': 'ECOC(KMEANS)'\n",
    "}"
   ]
  },
  {
   "cell_type": "code",
   "execution_count": 4,
   "metadata": {},
   "outputs": [],
   "source": [
    "def read_metrics_file(filename):\n",
    "    return pd.read_csv(filename)\n",
    "\n",
    "def get_results_filepath(result_folder, experiment, dataset, metrics_folder, metric_name):\n",
    "    return './{}/{}/{}/{}/{}_{}.csv'.format(result_folder, experiment, dataset, metrics_folder, metric_name, dataset.lower())"
   ]
  },
  {
   "cell_type": "code",
   "execution_count": 5,
   "metadata": {},
   "outputs": [],
   "source": [
    "def win_tie_loss_parser(value):\n",
    "    if value > 0:\n",
    "        return 'W'\n",
    "    elif value < 0:\n",
    "        return 'L'\n",
    "    else:\n",
    "        return 'T'"
   ]
  },
  {
   "cell_type": "code",
   "execution_count": 6,
   "metadata": {
    "scrolled": false
   },
   "outputs": [],
   "source": [
    "def gen_k_win_tie_loss(k, classifiers, aggs, dataset_names):\n",
    "    global results_folder\n",
    "    global experiment_1\n",
    "    global metrics_folder\n",
    "    global accuracy\n",
    "    \n",
    "    k_name = 'k{}'.format(k)\n",
    "\n",
    "    techniques = []\n",
    "    for base_classifier in classifiers:\n",
    "        for aggregator in aggs:\n",
    "            techniques.append('{}_{}_{}'.format(base_classifier, aggregator, desthr))\n",
    "\n",
    "    main_df = pd.DataFrame({'Technique': techniques})\n",
    "\n",
    "    for dataset in dataset_names:\n",
    "        ex1_filepath = get_results_filepath(results_folder, experiment_1, dataset, metrics_folder, accuracy)\n",
    "        ex1_results = read_metrics_file(ex1_filepath)\n",
    "        filtered_ex1 = ex1_results.loc[ex1_results['Technique'].isin(techniques)][['Technique', 'mean']].reset_index(drop=True)\n",
    "\n",
    "        ex2_filepath = get_results_filepath(results_folder, experiment_2, dataset, metrics_folder, accuracy)\n",
    "        ex2_results = read_metrics_file(ex2_filepath)\n",
    "        filtered_ex2 = ex2_results.loc[ex2_results['Technique'] == k_name][['Technique', 'mean']].reset_index(drop=True)\n",
    "\n",
    "        kwargs = {k_name : lambda x: filtered_ex2.iloc[0]['mean']}\n",
    "        final_df = filtered_ex1.assign(**kwargs)\n",
    "        final_df['W/T/L'] = final_df['mean'] - final_df[k_name]\n",
    "        main_df[dataset] = final_df['W/T/L'].apply(lambda x: win_tie_loss_parser(x))\n",
    "\n",
    "    main_df['Wins'] = main_df[main_df[dataset_names] == 'W'].count(axis=1)\n",
    "    main_df['Ties'] = main_df[main_df[dataset_names] == 'T'].count(axis=1)\n",
    "    main_df['Losses'] = main_df[main_df[dataset_names] == 'L'].count(axis=1)\n",
    "\n",
    "    return main_df"
   ]
  },
  {
   "cell_type": "code",
   "execution_count": 23,
   "metadata": {},
   "outputs": [],
   "source": [
    "def knn_win_tie_loss_plot(df, title, xticks=[0, 5, 10, 15, 20], xlim=(0, 20)):\n",
    "    global techniques_formatted\n",
    "    global results_folder\n",
    "    global experiment_2\n",
    "    \n",
    "    wtl = df[['Technique', 'Wins', 'Ties', 'Losses']].copy()\n",
    "    wtl['Technique'] = wtl['Technique'].apply(lambda x: techniques_formatted[x])\n",
    "    \n",
    "    wtl.sort_values(by='Technique', inplace=True)\n",
    "    \n",
    "    wtl.set_index('Technique', inplace=True)\n",
    "    \n",
    "    ax = wtl.plot.barh(stacked=True, color=['green', 'yellow', 'red'], legend=False, title=title, width=1, edgecolor = \"black\", xticks=xticks, xlim=xlim)\n",
    "    ax.set_xlabel(\"no. of datasets\")\n",
    "    ax.set_ylabel(\"\")\n",
    "    \n",
    "    fig = ax.get_figure()\n",
    "    fig.savefig('{}/{}/{}.png'.format(results_folder, experiment_2, title), format='png', dpi=1000, bbox_inches='tight')"
   ]
  },
  {
   "cell_type": "code",
   "execution_count": 24,
   "metadata": {},
   "outputs": [
    {
     "data": {
      "image/png": "[encoded data removed]",
      "text/plain": [
       "<Figure size 432x288 with 1 Axes>"
      ]
     },
     "metadata": {
      "needs_background": "light"
     },
     "output_type": "display_data"
    }
   ],
   "source": [
    "df_k0 = gen_k_win_tie_loss(0, base_classifiers, aggregators, datasets)\n",
    "knn_win_tie_loss_plot(df_k0, 'DESthr vs 1-NN')"
   ]
  },
  {
   "cell_type": "code",
   "execution_count": 25,
   "metadata": {},
   "outputs": [
    {
     "data": {
      "image/png": "[encoded data removed]",
      "text/plain": [
       "<Figure size 432x288 with 1 Axes>"
      ]
     },
     "metadata": {
      "needs_background": "light"
     },
     "output_type": "display_data"
    }
   ],
   "source": [
    "df_k1 = gen_k_win_tie_loss(1, base_classifiers, aggregators, datasets)\n",
    "knn_win_tie_loss_plot(df_k1, 'DESthr vs 1m-NN')"
   ]
  },
  {
   "cell_type": "code",
   "execution_count": 26,
   "metadata": {
    "scrolled": true
   },
   "outputs": [
    {
     "data": {
      "image/png": "[encoded data removed]",
      "text/plain": [
       "<Figure size 432x288 with 1 Axes>"
      ]
     },
     "metadata": {
      "needs_background": "light"
     },
     "output_type": "display_data"
    }
   ],
   "source": [
    "df_k3 = gen_k_win_tie_loss(3, base_classifiers, aggregators, datasets)\n",
    "knn_win_tie_loss_plot(df_k3, 'DESthr vs 3m-NN')"
   ]
  }
 ],
 "metadata": {
  "kernelspec": {
   "display_name": "Python 3",
   "language": "python",
   "name": "python3"
  },
  "language_info": {
   "codemirror_mode": {
    "name": "ipython",
    "version": 3
   },
   "file_extension": ".py",
   "mimetype": "text/x-python",
   "name": "python",
   "nbconvert_exporter": "python",
   "pygments_lexer": "ipython3",
   "version": "3.8.0"
  }
 },
 "nbformat": 4,
 "nbformat_minor": 4
}
