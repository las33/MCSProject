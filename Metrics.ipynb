{
 "cells": [
  {
   "cell_type": "code",
   "execution_count": 11,
   "metadata": {},
   "outputs": [],
   "source": [
    "import pandas as pd\n",
    "import numpy as np\n",
    "import os\n",
    "from os import listdir\n",
    "from os.path import isfile, join\n",
    "from sklearn.metrics import accuracy_score,cohen_kappa_score\n",
    "from collections import defaultdict"
   ]
  },
  {
   "cell_type": "code",
   "execution_count": 14,
   "metadata": {},
   "outputs": [],
   "source": [
    "folder = './results_minmax/Experiment1'\n",
    "bases = [name for name in os.listdir(folder) if os.path.isdir(os.path.join(folder, name))]"
   ]
  },
  {
   "cell_type": "code",
   "execution_count": 15,
   "metadata": {},
   "outputs": [],
   "source": [
    "def get_metrics():\n",
    "    skip_bases = [\"Nursery\"]\n",
    "    for base in bases:\n",
    "        mypath = folder + \"/\" + base\n",
    "        onlyfiles = [f for f in listdir(mypath) if isfile(join(mypath, f))]\n",
    "        techniques = list(map(lambda x: x[7:-4],onlyfiles))\n",
    "        techniques = list(set(techniques))\n",
    "        #if(base  == \"Letter-2\"):\n",
    "        #    continue        \n",
    "\n",
    "        acc_data = defaultdict(list)\n",
    "        kappa_data = defaultdict(list)\n",
    "        for tec in techniques:\n",
    "            accs = []\n",
    "            kappas = []\n",
    "            acc_data[\"Technique\"].append(tec)\n",
    "            kappa_data[\"Technique\"].append(tec)\n",
    "            for fold in range(1,6):\n",
    "                df = pd.read_csv('{0}/{1}/fold_{2}_{3}.csv'.format(folder,base, fold, tec), header=None) \n",
    "                ac = accuracy_score(df[0].values, df[1].values)\n",
    "                accs.append(ac)\n",
    "                kp = cohen_kappa_score(df[0].values, df[1].values)\n",
    "                kappas.append(kp) \n",
    "                acc_data[\"Fold\"+str(fold)].append(ac) \n",
    "                kappa_data[\"Fold\"+str(fold)].append(kp)  \n",
    "\n",
    "            acc_data[\"mean\"].append(np.mean(accs)) \n",
    "            acc_data[\"std\"].append(np.std(accs)) \n",
    "            kappa_data[\"mean\"].append(np.mean(kappas))\n",
    "            kappa_data[\"std\"].append(np.std(kappas))\n",
    "\n",
    "        df_acc = pd.DataFrame(acc_data, columns = [\"Technique\", \"Fold1\", \"Fold2\", \"Fold3\", \"Fold4\", \"Fold5\", \"mean\", \"std\"])\n",
    "        df_acc.to_csv('{0}/{1}/Metrics/accuracy_{2}.csv'.format(folder,base, base.lower()), index=False)\n",
    "\n",
    "        df_kappa = pd.DataFrame(kappa_data, columns = [\"Technique\", \"Fold1\", \"Fold2\", \"Fold3\", \"Fold4\", \"Fold5\", \"mean\", \"std\"])\n",
    "        df_kappa.to_csv('{0}/{1}/Metrics/kappa_{2}.csv'.format(folder,base, base.lower()), index=False)\n",
    "    \n",
    "#get_metrics()    "
   ]
  },
  {
   "cell_type": "code",
   "execution_count": 6,
   "metadata": {},
   "outputs": [],
   "source": [
    "def get_tables(metric):\n",
    "    \n",
    "    data = defaultdict(defaultdict)\n",
    "    #skip_bases = [\"Ecoli\", \"Lymphography\"]\n",
    "    for base in bases:\n",
    "        #if(base in skip_bases):\n",
    "        #    continue\n",
    "        mypath = folder + \"/\" + base\n",
    "        df = pd.read_csv('{0}/Metrics/{1}_{2}.csv'.format(mypath,metric, base.lower())) \n",
    "\n",
    "        for index, row in df.iterrows():\n",
    "            data[base][row['Technique']] = (row['mean'], row['std'])\n",
    "\n",
    "    aggs = ['max', 'ecoc', 'decision_templates']\n",
    "    columns = [\"Base\", \"kmeans\", \"kmeans des\", \"kmeans desthr\", \"parzen\", \"parzen des\", \"parzen desthr\", \"svdd\", \"svdd des\", \"svdd desthr\"]\n",
    "\n",
    "    for agg in aggs:\n",
    "        data_agg = defaultdict(list)\n",
    "        for base in bases:\n",
    "            #if(base in skip_bases):\n",
    "            #    continue\n",
    "            data_agg[\"Base\"].append(base)\n",
    "            dict_agg = {k: v for k, v in data[base].items() if \"_\"+agg+\"_\" in k}\n",
    "            sortedDict = dict( sorted(dict_agg.items(), key=lambda x: x[0].lower()) )\n",
    "\n",
    "            for k,v in sortedDict.items():\n",
    "                y = k.replace(\"_\"+agg+\"_agg\",'')\n",
    "                y = y.replace(\"_\",' ')\n",
    "                data_agg[y].append('{:0.2f}'.format(v[0]*100))\n",
    "\n",
    "        df_agg = pd.DataFrame(data_agg, columns = columns)\n",
    "        df_agg.to_csv('{0}/{1}_{2}.csv'.format(folder,agg,metric), index=False, sep='\\t')\n",
    "\n",
    "#get_tables(\"accuracy\")\n",
    "#get_tables(\"kappa\")"
   ]
  }
 ],
 "metadata": {
  "kernelspec": {
   "display_name": "Python 3",
   "language": "python",
   "name": "python3"
  },
  "language_info": {
   "codemirror_mode": {
    "name": "ipython",
    "version": 3
   },
   "file_extension": ".py",
   "mimetype": "text/x-python",
   "name": "python",
   "nbconvert_exporter": "python",
   "pygments_lexer": "ipython3",
   "version": "3.8.3"
  }
 },
 "nbformat": 4,
 "nbformat_minor": 4
}
