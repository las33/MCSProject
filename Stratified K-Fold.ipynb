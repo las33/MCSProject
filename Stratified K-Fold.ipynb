{
 "cells": [
  {
   "cell_type": "code",
   "execution_count": 43,
   "metadata": {},
   "outputs": [],
   "source": [
    "import pandas as pd\n",
    "from sklearn.model_selection import StratifiedKFold\n",
    "import os"
   ]
  },
  {
   "cell_type": "code",
   "execution_count": null,
   "metadata": {},
   "outputs": [],
   "source": [
    "folder = './ProcessedBases'\n",
    "bases = [name for name in os.listdir(folder) if os.path.isdir(os.path.join(folder, name))]\n",
    "\n",
    "\n",
    "for basename in bases:\n",
    "    df = pd.read_csv('{0}/{1}/{2}.csv'.format(base_dir,basename, basename.lower()), header=None)\n",
    "    y = df.iloc[:,-1:]\n",
    "    X = df.iloc[:, :-1]\n",
    "    \n",
    "    skf = StratifiedKFold(n_splits=5)\n",
    "    print(basename)\n",
    "    fold = 1\n",
    "    for train_index, test_index in skf.split(X, y):        \n",
    "        X_train, X_test = X.iloc[train_index], X.iloc[test_index]\n",
    "        y_train, y_test = y.iloc[train_index], y.iloc[test_index]\n",
    "        df_train = X_train.join(y_train)\n",
    "        df_test = X_test.join(y_test)\n",
    "        \n",
    "        df_train.to_csv('{0}/{1}/{2}_{3}_train.csv'.format(base_dir,basename, basename.lower(),fold), index = False, header=False)\n",
    "        df_test.to_csv('{0}/{1}/{2}_{3}_test.csv'.format(base_dir,basename, basename.lower(),fold), index = False, header=False)\n",
    "        \n",
    "        fold = fold + 1\n",
    "        \n",
    "        "
   ]
  }
 ],
 "metadata": {
  "kernelspec": {
   "display_name": "Python 3",
   "language": "python",
   "name": "python3"
  },
  "language_info": {
   "codemirror_mode": {
    "name": "ipython",
    "version": 3
   },
   "file_extension": ".py",
   "mimetype": "text/x-python",
   "name": "python",
   "nbconvert_exporter": "python",
   "pygments_lexer": "ipython3",
   "version": "3.8.3"
  }
 },
 "nbformat": 4,
 "nbformat_minor": 4
}
