{
 "cells": [
  {
   "cell_type": "code",
   "execution_count": 11,
   "metadata": {},
   "outputs": [],
   "source": [
    "import pandas as pd\n",
    "import numpy as np\n",
    "from sklearn.model_selection import StratifiedKFold\n",
    "from sklearn.preprocessing import StandardScaler\n",
    "import os"
   ]
  },
  {
   "cell_type": "code",
   "execution_count": 12,
   "metadata": {},
   "outputs": [
    {
     "name": "stdout",
     "output_type": "stream",
     "text": [
      "Auslan\n",
      "Autos\n",
      "Car\n",
      "Cleveland"
     ]
    },
    {
     "name": "stderr",
     "output_type": "stream",
     "text": [
      "C:\\Users\\leona\\anaconda3\\lib\\site-packages\\sklearn\\model_selection\\_split.py:666: UserWarning: The least populated class in y has only 3 members, which is less than n_splits=5.\n",
      "  warnings.warn((\"The least populated class in y has only %d\"\n"
     ]
    },
    {
     "name": "stdout",
     "output_type": "stream",
     "text": [
      "\n",
      "Dermatology\n",
      "Ecoli\n",
      "Flare\n",
      "Glass"
     ]
    },
    {
     "name": "stderr",
     "output_type": "stream",
     "text": [
      "C:\\Users\\leona\\anaconda3\\lib\\site-packages\\sklearn\\model_selection\\_split.py:666: UserWarning: The least populated class in y has only 2 members, which is less than n_splits=5.\n",
      "  warnings.warn((\"The least populated class in y has only %d\"\n"
     ]
    },
    {
     "name": "stdout",
     "output_type": "stream",
     "text": [
      "\n",
      "Isolet\n",
      "Led7digit\n",
      "Letter-2\n"
     ]
    },
    {
     "name": "stderr",
     "output_type": "stream",
     "text": [
      "C:\\Users\\leona\\anaconda3\\lib\\site-packages\\sklearn\\model_selection\\_split.py:666: UserWarning: The least populated class in y has only 2 members, which is less than n_splits=5.\n",
      "  warnings.warn((\"The least populated class in y has only %d\"\n"
     ]
    },
    {
     "name": "stdout",
     "output_type": "stream",
     "text": [
      "Lymphography\n",
      "Nursery\n"
     ]
    },
    {
     "name": "stderr",
     "output_type": "stream",
     "text": [
      "C:\\Users\\leona\\anaconda3\\lib\\site-packages\\sklearn\\model_selection\\_split.py:666: UserWarning: The least populated class in y has only 2 members, which is less than n_splits=5.\n",
      "  warnings.warn((\"The least populated class in y has only %d\"\n",
      "C:\\Users\\leona\\anaconda3\\lib\\site-packages\\sklearn\\model_selection\\_split.py:666: UserWarning: The least populated class in y has only 2 members, which is less than n_splits=5.\n",
      "  warnings.warn((\"The least populated class in y has only %d\"\n"
     ]
    },
    {
     "name": "stdout",
     "output_type": "stream",
     "text": [
      "Page-blocks\n",
      "Penbased\n",
      "Satimage\n",
      "Segment\n",
      "Shuttle\n"
     ]
    },
    {
     "name": "stderr",
     "output_type": "stream",
     "text": [
      "C:\\Users\\leona\\anaconda3\\lib\\site-packages\\sklearn\\model_selection\\_split.py:666: UserWarning: The least populated class in y has only 2 members, which is less than n_splits=5.\n",
      "  warnings.warn((\"The least populated class in y has only %d\"\n"
     ]
    },
    {
     "name": "stdout",
     "output_type": "stream",
     "text": [
      "Vehicle\n",
      "Vowel\n",
      "Yeast\n",
      "Zoo\n"
     ]
    },
    {
     "name": "stderr",
     "output_type": "stream",
     "text": [
      "C:\\Users\\leona\\anaconda3\\lib\\site-packages\\sklearn\\model_selection\\_split.py:666: UserWarning: The least populated class in y has only 4 members, which is less than n_splits=5.\n",
      "  warnings.warn((\"The least populated class in y has only %d\"\n"
     ]
    }
   ],
   "source": [
    "folder = './ProcessedBases'\n",
    "base_dir = 'ProcessedBases'\n",
    "bases = [name for name in os.listdir(folder) if os.path.isdir(os.path.join(folder, name))]\n",
    "scaler = StandardScaler()\n",
    "\n",
    "\n",
    "for basename in bases:\n",
    "    df = pd.read_csv('{0}/{1}/{2}.csv'.format(folder,basename, basename.lower()), header=None)\n",
    "    \n",
    "    print(basename)\n",
    "    \n",
    "    y = df.iloc[:,-1:]\n",
    "    X = df.iloc[:, :-1]\n",
    "    \n",
    "    scaled_features = StandardScaler().fit_transform(X.values)\n",
    "    X = pd.DataFrame(scaled_features, index=X.index, columns=X.columns)\n",
    "    \n",
    "    skf = StratifiedKFold(n_splits=5)\n",
    "    #print(basename)\n",
    "    fold = 1\n",
    "    mylist = y\n",
    "    #print(np.unique(y)) \n",
    "    primeiro_label = np.unique(y)[0]\n",
    "    \n",
    "    if(primeiro_label == 0):\n",
    "        y += 1\n",
    "    #print(np.unique(y)) \n",
    "    \n",
    "    for train_index, test_index in skf.split(X, y):        \n",
    "        X_train, X_test = X.iloc[train_index], X.iloc[test_index]\n",
    "        y_train, y_test = y.iloc[train_index], y.iloc[test_index]\n",
    "        df_train = X_train.join(y_train)\n",
    "        df_test = X_test.join(y_test)\n",
    "        \n",
    "        df_train.to_csv('{0}/{1}/{2}_{3}_train.csv'.format(base_dir,basename, basename.lower(),fold), index = False, header=False)\n",
    "        df_test.to_csv('{0}/{1}/{2}_{3}_test.csv'.format(base_dir,basename, basename.lower(),fold), index = False, header=False)\n",
    "        \n",
    "        fold = fold + 1\n",
    "        \n",
    "        "
   ]
  },
  {
   "cell_type": "code",
   "execution_count": null,
   "metadata": {},
   "outputs": [],
   "source": []
  },
  {
   "cell_type": "code",
   "execution_count": null,
   "metadata": {},
   "outputs": [],
   "source": []
  }
 ],
 "metadata": {
  "kernelspec": {
   "display_name": "Python 3",
   "language": "python",
   "name": "python3"
  },
  "language_info": {
   "codemirror_mode": {
    "name": "ipython",
    "version": 3
   },
   "file_extension": ".py",
   "mimetype": "text/x-python",
   "name": "python",
   "nbconvert_exporter": "python",
   "pygments_lexer": "ipython3",
   "version": "3.8.3"
  }
 },
 "nbformat": 4,
 "nbformat_minor": 4
}
