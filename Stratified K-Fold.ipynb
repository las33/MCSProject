{
 "cells": [
  {
   "cell_type": "code",
   "execution_count": 2,
   "metadata": {},
   "outputs": [],
   "source": [
    "import pandas as pd\n",
    "import numpy as np\n",
    "from sklearn.model_selection import StratifiedKFold\n",
    "from sklearn.preprocessing import StandardScaler, MinMaxScaler, RobustScaler\n",
    "import os"
   ]
  },
  {
   "cell_type": "code",
   "execution_count": 7,
   "metadata": {},
   "outputs": [
    {
     "name": "stdout",
     "output_type": "stream",
     "text": [
      "Nursery\n",
      "12960\n",
      "new len 1296\n",
      "[1 2 3 4 5]\n",
      "[1 2 3 4]\n"
     ]
    },
    {
     "name": "stderr",
     "output_type": "stream",
     "text": [
      "c:\\users\\barre\\appdata\\local\\programs\\python\\python38\\lib\\site-packages\\sklearn\\model_selection\\_split.py:670: UserWarning: The least populated class in y has only 2 members, which is less than n_splits=10.\n",
      "  warnings.warn((\"The least populated class in y has only %d\"\n",
      "c:\\users\\barre\\appdata\\local\\programs\\python\\python38\\lib\\site-packages\\sklearn\\model_selection\\_split.py:670: UserWarning: The least populated class in y has only 1 members, which is less than n_splits=5.\n",
      "  warnings.warn((\"The least populated class in y has only %d\"\n",
      "c:\\users\\barre\\appdata\\local\\programs\\python\\python38\\lib\\site-packages\\sklearn\\model_selection\\_split.py:670: UserWarning: The least populated class in y has only 2 members, which is less than n_splits=5.\n",
      "  warnings.warn((\"The least populated class in y has only %d\"\n"
     ]
    }
   ],
   "source": [
    "folder = './ProcessedBases'\n",
    "base_dir = 'ProcessedBases'\n",
    "# bases = [name for name in os.listdir(folder) if os.path.isdir(os.path.join(folder, name))]\n",
    "bases = ['Nursery','Lymphography']\n",
    "scaler = StandardScaler()\n",
    "reduced = ['Letter-2', 'Isolet', 'Page-blocks', 'Nursery', 'Satimage']\n",
    "\n",
    "for basename in bases:\n",
    "    df = pd.read_csv('{0}/{1}/{2}.csv'.format(folder,basename, basename.lower()), header=None)   \n",
    "    \n",
    "    \n",
    "    y = df.iloc[:,-1:]\n",
    "    X = df.iloc[:, :-1]\n",
    "    \n",
    "    scaled_features = StandardScaler().fit_transform(X.values)\n",
    "    X = pd.DataFrame(scaled_features, index=X.index, columns=X.columns)\n",
    "    \n",
    "    skf = StratifiedKFold(n_splits=5)\n",
    "    \n",
    "    if (basename in reduced):\n",
    "        print(basename)\n",
    "        print(len(X))\n",
    "        skf_reduced = StratifiedKFold(n_splits=10)\n",
    "        for train_index, test_index in skf_reduced.split(X, y):        \n",
    "            X_red = X.iloc[test_index]\n",
    "            y_red = y.iloc[test_index]\n",
    "            break\n",
    "        X = X_red\n",
    "        y = y_red \n",
    "\n",
    "        df = X.join(y)\n",
    "        df.to_csv('{0}/{1}/{2}.csv'.format(base_dir,basename,basename.lower()), index = False, header=False)\n",
    "        print(\"new len\", len(X))\n",
    "    \n",
    "    fold = 1\n",
    "    mylist = y\n",
    "    #print(np.unique(y)) \n",
    "    primeiro_label = np.unique(y)[0]\n",
    "\n",
    "    if(primeiro_label == 0):\n",
    "        y += 1\n",
    "    print(np.unique(y)) \n",
    "\n",
    "    for train_index, test_index in skf.split(X, y):        \n",
    "        X_train, X_test = X.iloc[train_index], X.iloc[test_index]\n",
    "        y_train, y_test = y.iloc[train_index], y.iloc[test_index]\n",
    "        df_train = X_train.join(y_train)\n",
    "        df_test = X_test.join(y_test)\n",
    "\n",
    "        df_train.to_csv('{0}/{1}/{2}_{3}_train.csv'.format(base_dir,basename, basename.lower(),fold), index = False, header=False)\n",
    "        df_test.to_csv('{0}/{1}/{2}_{3}_test.csv'.format(base_dir,basename, basename.lower(),fold), index = False, header=False)\n",
    "\n",
    "        fold = fold + 1\n",
    "        \n",
    "        "
   ]
  },
  {
   "cell_type": "code",
   "execution_count": null,
   "metadata": {},
   "outputs": [],
   "source": []
  },
  {
   "cell_type": "code",
   "execution_count": null,
   "metadata": {},
   "outputs": [],
   "source": []
  }
 ],
 "metadata": {
  "kernelspec": {
   "display_name": "Python 3",
   "language": "python",
   "name": "python3"
  },
  "language_info": {
   "codemirror_mode": {
    "name": "ipython",
    "version": 3
   },
   "file_extension": ".py",
   "mimetype": "text/x-python",
   "name": "python",
   "nbconvert_exporter": "python",
   "pygments_lexer": "ipython3",
   "version": "3.8.0"
  }
 },
 "nbformat": 4,
 "nbformat_minor": 4
}
